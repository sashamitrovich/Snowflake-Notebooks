{
 "metadata": {
  "kernelspec": {
   "display_name": "Streamlit Notebook",
   "name": "streamlit"
  }
 },
 "nbformat_minor": 5,
 "nbformat": 4,
 "cells": [
  {
   "cell_type": "code",
   "id": "3775908f-ca36-4846-8f38-5adca39217f2",
   "metadata": {
    "language": "python",
    "name": "imports",
    "collapsed": false,
    "resultHeight": 0
   },
   "source": "# Import python packages\nimport streamlit as st\n\n# We can also use Snowpark for our analyses!\nfrom snowflake.snowpark.context import get_active_session\nsession = get_active_session()\n\n# Assuming the dataset \n# https://huggingface.co/datasets/gradio/NYC-Airbnb-Open-Data\n# has been downloaded to DATABASE.SCHEMA\n\nDATABASE = 'snowpark_playground'\nSCHEMA = 'hug_datasets'\nTABLE='nyc_airbnb_open_data'\n\nsession.use_database(DATABASE)\nsession.use_schema(SCHEMA)",
   "execution_count": null,
   "outputs": []
  },
  {
   "cell_type": "code",
   "id": "8c122e9d-e5db-4e87-9f2d-9b488cbe2562",
   "metadata": {
    "language": "python",
    "name": "what_were_doing",
    "collapsed": false,
    "codeCollapsed": false,
    "resultHeight": 242
   },
   "outputs": [],
   "source": "st.image('Airbnb Notebook.jpeg', width=800)",
   "execution_count": null
  },
  {
   "cell_type": "code",
   "id": "2984c3a0-2f0a-44c3-b64d-5f9cf02098df",
   "metadata": {
    "language": "sql",
    "name": "check_db_and_schema",
    "collapsed": false,
    "codeCollapsed": false,
    "resultHeight": 112
   },
   "outputs": [],
   "source": "select current_database(), current_schema();",
   "execution_count": null
  },
  {
   "cell_type": "code",
   "id": "22319b70-0e04-4d5c-a127-a2fc2ced397f",
   "metadata": {
    "language": "sql",
    "name": "property_data",
    "codeCollapsed": false,
    "collapsed": false,
    "resultHeight": 439
   },
   "outputs": [],
   "source": "select * from nyc_airbnb_open_data sample (1000 rows);\n-- show tables;",
   "execution_count": null
  },
  {
   "cell_type": "code",
   "id": "a6fba62d-bcf2-4c29-a007-a0b7824bc1c2",
   "metadata": {
    "language": "python",
    "name": "show_property_map",
    "codeCollapsed": false,
    "collapsed": false,
    "resultHeight": 523
   },
   "outputs": [],
   "source": "st.map(property_data.to_df().collect(), size='number_of_reviews')",
   "execution_count": null
  },
  {
   "cell_type": "code",
   "id": "bb638b31-3925-4258-a245-932bb680d9b1",
   "metadata": {
    "language": "sql",
    "name": "show_property_count",
    "codeCollapsed": false,
    "collapsed": false,
    "resultHeight": 112
   },
   "outputs": [],
   "source": "select count(*) as property_count\nfrom snowpark_playground.hug_datasets.nyc_airbnb_open_data;",
   "execution_count": null
  },
  {
   "cell_type": "code",
   "id": "312a3c79-57d3-4aa9-8612-3f8aada5218e",
   "metadata": {
    "language": "sql",
    "name": "create_business_view",
    "collapsed": false,
    "codeCollapsed": false,
    "resultHeight": 112
   },
   "outputs": [],
   "source": "create schema if not exists airbnb;\nCREATE\nOR REPLACE VIEW airbnb.NYC_AIRBNB_OPEN_DATA_WITH_PRICE_INDICATOR AS WITH avg_price AS (\n  SELECT\n    AVG(\"price\") AS avg_price\n  FROM\n    SNOWPARK_PLAYGROUND.HUG_DATASETS.NYC_AIRBNB_OPEN_DATA\n),\navg_reviews AS (\n  SELECT\n    AVG(\"number_of_reviews\") AS avg_reviews\n  FROM\n    SNOWPARK_PLAYGROUND.HUG_DATASETS.NYC_AIRBNB_OPEN_DATA\n),\navg_availability AS (\n  SELECT\n    AVG(\"availability_365\") AS avg_availability\n  FROM\n    SNOWPARK_PLAYGROUND.HUG_DATASETS.NYC_AIRBNB_OPEN_DATA\n)\nSELECT\n  \"price\" as METRIC, \"neighbourhood\", \"neighbourhood_group\", \"room_type\",\n  CASE\n    WHEN \"price\" > (\n      SELECT\n        avg_price\n      FROM\n        avg_price\n    ) THEN TRUE\n    ELSE FALSE\n  END AS is_price_above_average,\n  CASE\n    WHEN \"number_of_reviews\" > (\n      SELECT\n        avg_reviews\n      FROM\n        avg_reviews\n    ) THEN 'high'\n    WHEN \"number_of_reviews\" = (\n      SELECT\n        avg_reviews\n      FROM\n        avg_reviews\n    ) THEN 'medium'\n    ELSE 'low'\n  END AS review_volume,\n  CASE\n    WHEN \"availability_365\" > (\n      SELECT\n        avg_availability * 1.1\n      FROM\n        avg_availability\n    ) THEN 'high'\n    WHEN \"availability_365\" >= (\n      SELECT\n        avg_availability * 0.9\n      FROM\n        avg_availability\n    ) THEN 'medium'\n    ELSE 'low'\n  END AS availability\nFROM\n  SNOWPARK_PLAYGROUND.HUG_DATASETS.NYC_AIRBNB_OPEN_DATA;",
   "execution_count": null
  },
  {
   "cell_type": "code",
   "id": "1d93628c-4f8f-4dfa-a010-15936b82cdfe",
   "metadata": {
    "language": "sql",
    "name": "show_business_view",
    "codeCollapsed": false,
    "collapsed": false,
    "resultHeight": 427
   },
   "outputs": [],
   "source": "use schema snowpark_playground.airbnb;\nselect * from NYC_AIRBNB_OPEN_DATA_WITH_PRICE_INDICATOR\nlimit 10;",
   "execution_count": null
  },
  {
   "cell_type": "code",
   "id": "2791c864-3c7d-4132-9dfc-cec195b8f417",
   "metadata": {
    "language": "sql",
    "name": "run_top_insights",
    "codeCollapsed": false,
    "collapsed": false,
    "resultHeight": 112
   },
   "outputs": [],
   "source": "-- Create Instance of Top Insights \nCREATE SNOWFLAKE.ML.TOP_INSIGHTS IF NOT EXISTS airbnb_price_insights();\n\n-- Function to get key drivers \nCALL airbnb_price_insights!GET_DRIVERS(\n    INPUT_DATA => TABLE(NYC_AIRBNB_OPEN_DATA_WITH_PRICE_INDICATOR),\n    LABEL_COLNAME => 'is_price_above_average',\n    METRIC_COLNAME => 'metric');\n\n-- Create a Table based on Top Insights Results.\nCREATE OR REPLACE TABLE airbnb_pricing_results as select * from table(result_scan(-1));",
   "execution_count": null
  },
  {
   "cell_type": "code",
   "id": "ad299943-65e4-4c03-8bde-c0b7d060b892",
   "metadata": {
    "language": "sql",
    "name": "what_did_we_get_back",
    "codeCollapsed": false,
    "collapsed": false,
    "resultHeight": 439
   },
   "outputs": [],
   "source": "SELECT\n\ncontributor,\ncontribution, \nrelative_contribution, \ngrowth_rate\n\nFROM airbnb_pricing_results\n\n-- WHERE contributor NOT LIKE '%not%'",
   "execution_count": null
  },
  {
   "cell_type": "code",
   "id": "1670faaf-eaec-4f1b-b1f8-15233a46ea51",
   "metadata": {
    "language": "sql",
    "name": "interpret_with_cortex",
    "collapsed": false,
    "resultHeight": 439
   },
   "outputs": [],
   "source": "SELECT\n\ncontributor,\n\nSNOWFLAKE.CORTEX.COMPLETE('llama3.1-405b', CONCAT ('You are a business analyst that is going to analyze the top contributors to Aibnb prices. The Contributor field represents the relevant segments.',contributor, 'The RELATIVE_CONTRIBUTION field measures how imporant the contributors are',relative_contribution,'Return a concise summary how the contributor impacts Airbnb prices. Do not say \"Based on the data, here is a concise summary\". Do not return information not captured in the input data.')) as Top_Insights_Row_Summary, \ncontribution, \nrelative_contribution, \ngrowth_rate\n\nFROM airbnb_pricing_results\n\n-- WHERE contributor NOT LIKE '%not%'\n\nGROUP BY ALL \n",
   "execution_count": null
  },
  {
   "cell_type": "code",
   "id": "f467bc2a-8a00-4937-8ee4-987382f33679",
   "metadata": {
    "language": "sql",
    "name": "blog_post",
    "codeCollapsed": false,
    "collapsed": false,
    "resultHeight": 112
   },
   "outputs": [],
   "source": "with top_insights_input as (\n\nSELECT\n\ncontributor,\n\nSNOWFLAKE.CORTEX.COMPLETE('llama3.1-405b', CONCAT ('You are a business analyst that is going to analyze the top contributors to Aibnb prices. The Contributor field represents the relevant segments.',contributor, 'The RELATIVE_CONTRIBUTION field measures how imporant the contributors are',relative_contribution,'Return a concise summary how the contributor impacts Airbnb prices. Do not say \"Based on the data, here is a concise summary\". Do not return information not captured in the input data.')) as Top_Insights_Row_Summary, \ncontribution, \nrelative_contribution, \ngrowth_rate\n\nFROM airbnb_pricing_results\n\n-- WHERE contributor NOT LIKE '%not%'\n\nGROUP BY ALL \n\n)\n\nSELECT \n\nSNOWFLAKE.CORTEX.COMPLETE('llama3.1-405b', CONCAT ('You are a real estate analyst writing a short blog post about Airbnb prices in New York Ciy based on this summary:',LEFT(LISTAGG(Top_Insights_Row_Summary),100000),'Return a well written summary no longer than 500 words with the key takeaways for Airbnb Hosts that will be published for readers who are thinking about listing their apartments in New York City')) as Top_Insights_Row_Summary\n\n\nFROM top_insights_input \n",
   "execution_count": null
  },
  {
   "cell_type": "code",
   "id": "e54e3f53-c9b1-4de9-b62d-c649235b6028",
   "metadata": {
    "language": "python",
    "name": "blog_markdown",
    "collapsed": false,
    "resultHeight": 1311
   },
   "outputs": [],
   "source": "result=blog_post.to_df()\nst.markdown(blog_post.to_df().collect()[0][0])",
   "execution_count": null
  }
 ]
}